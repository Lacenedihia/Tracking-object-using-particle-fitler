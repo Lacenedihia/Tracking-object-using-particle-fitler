{
 "cells": [
  {
   "cell_type": "markdown",
   "metadata": {},
   "source": [
    "Tracking Objects in Video with Particle Filters\n",
    "==============================================="
   ]
  },
  {
   "cell_type": "markdown",
   "metadata": {},
   "source": [
    "Import libraries\n",
    "to locate and track the oerson walking is challenging problem \n",
    "it was shot with a digital camera pixel values are noisy \n",
    "camera direction is also constantly changing \n",
    "and her profile keep changing too as she walks\n",
    "plus she steps behind a treee \n"
   ]
  },
  {
   "cell_type": "code",
   "execution_count": 68,
   "metadata": {},
   "outputs": [],
   "source": [
    "import numpy as np\n",
    "import cv2\n",
    "#PARTICLE FILTERS ARE ALSO A POWERFUL EFFICIENT SOLUTION ROBUTS FOR ROBOTICS AI EVEN FINANCE \n",
    "# Repeatability\n",
    "np.random.seed(0)\n",
    "\n",
    "VFILENAME = \"walking.mp4\"\n",
    "HEIGHT = 406\n",
    "WIDTH = 722"
   ]
  },
  {
   "cell_type": "markdown",
   "metadata": {},
   "source": [
    "Load video frames from file"
   ]
  },
  {
   "cell_type": "code",
   "execution_count": 69,
   "metadata": {},
   "outputs": [],
   "source": [
    "def get_frames(filename):\n",
    "    video= cv2.VideoCapture(filename) #going to return a video capture object \n",
    "    while video.isOpened(): #as long as video opened we want to read the frames \n",
    "        ret,frame= video.read()\n",
    "        #goign to return like a status flag and the frame as long as the frame is valid \n",
    "        #python generator to build frames \n",
    "        if ret :\n",
    "            yield frame\n",
    "        else: \n",
    "            break \n",
    "    video.release()\n",
    "    yield None\n",
    "    return []"
   ]
  },
  {
   "cell_type": "markdown",
   "metadata": {},
   "source": [
    "Creating a particle cloud"
   ]
  },
  {
   "cell_type": "code",
   "execution_count": 70,
   "metadata": {},
   "outputs": [],
   "source": [
    "NUM_PARTICLES=500\n",
    "#SAME RESULS AS WITH 150 PRETTY IMPRESSIVE \n",
    "#EFFECTIVE ON MUCH SMALLER COMPUTING DEVICES SMALL DIGITAL CAMERAS \n",
    "VEL_RANGE = 0.5\n",
    "def initialize_particles():\n",
    "    particles=np.random.rand(NUM_PARTICLES,4)\n",
    "    particles = particles *  np.array((WIDTH,HEIGHT,VEL_RANGE,VEL_RANGE))\n",
    "    #want the velocitiie to be centered at zero \n",
    "    #shoft last two columsn down a bit \n",
    "    particles[:,2:4] -=VEL_RANGE/2.0\n",
    "    print(particles[:20,:])\n",
    "    return particles\n",
    "#may notice that they aren't moving even if they have a velocity \n",
    "#we aren't updating their posititons according to the velocities yet "
   ]
  },
  {
   "cell_type": "markdown",
   "metadata": {},
   "source": [
    "Moving particles according to their velocity state"
   ]
  },
  {
   "cell_type": "code",
   "execution_count": 71,
   "metadata": {},
   "outputs": [],
   "source": [
    "def apply_velocity(particles):\n",
    "    particles[:,0]+=particles [:,2]\n",
    "    particles[:,1]+=particles [:,3]\n",
    "    return particles"
   ]
  },
  {
   "cell_type": "markdown",
   "metadata": {},
   "source": [
    "Prevent particles from falling off the edge of the video frame"
   ]
  },
  {
   "cell_type": "code",
   "execution_count": 72,
   "metadata": {},
   "outputs": [],
   "source": [
    "def enforce_edges(particles):\n",
    "    for i in range(NUM_PARTICLES):\n",
    "        particles[i,0] = max(0, min(WIDTH-1, particles[i,0]))\n",
    "        particles[i,1] = max(0, min(HEIGHT-1, particles[i,1]))\n",
    "    return particles\n",
    "            #X DOESN'T BECOME BEIGGER THAN WIDTH \n",
    "            \n",
    "            #Y SAME THING \n",
    "            #PARTICLES THA TMOVE AROUND ANF CLEAVER ENOUGH TO NOT MOVE OUT OF THE VIDEO FRMAE \n",
    "            #TO IMPROVE STATE ESTIMATION WANNA CHECK THE COLOR OF EACH PIXEL SANDING AROUND EACH PARTICLE\n",
    "            #AND COMPATE IT TO THE TARGET COLOR \n",
    "            \n",
    "            \n",
    "            \n"
   ]
  },
  {
   "cell_type": "markdown",
   "metadata": {},
   "source": [
    "Measure each particle's quality"
   ]
  },
  {
   "cell_type": "code",
   "execution_count": 73,
   "metadata": {},
   "outputs": [],
   "source": [
    "def compute_errors(particles, frame):\n",
    "    errors = np.zeros(NUM_PARTICLES)\n",
    "    TARGET_COLOUR = np.array( (189,105,82) ) # Blue top sleeve pixel colour\n",
    "#    TARGET_COLOUR = np.array( (148, 73, 49) ) # Blue top sleeve pixel colour\n",
    "    for i in range(NUM_PARTICLES):\n",
    "        x = int(particles[i,0])\n",
    "        y = int(particles[i,1])\n",
    "        pixel_colour = frame[ y, x, : ]\n",
    "        errors[i] = np.sum( ( TARGET_COLOUR - pixel_colour )**2 ) # MSE in colour space\n",
    "    return errors"
   ]
  },
  {
   "cell_type": "markdown",
   "metadata": {},
   "source": [
    "Assign weights to the particles based on their quality of match"
   ]
  },
  {
   "cell_type": "code",
   "execution_count": 74,
   "metadata": {},
   "outputs": [],
   "source": [
    "def compute_weights(errors):\n",
    "    #INVERT THE ERRORS HIGEHEST ERRORS FOUND  SUBSTRACT OFF THEERRORS ARRAY \n",
    "    weights =  np.max(errors)-errors\n",
    "    weights[\n",
    "        (particles[:,0]==0) |\n",
    "        (particles[:,0]==WIDTH-1) | \n",
    "        (particles[:,0]==0) | \n",
    "        (particles[:,0]==HEIGHT-1)\n",
    "    ]=0.0\n",
    "    weights= weights**6\n",
    "    #POWER FOUR WORKS BETTER BUT NOT GO TOO HIGH OTHERWISE BECORME TOO SENSITIVE TO COLOUR \n",
    "    #AND  CHNAGE IN BRIGHTNESS MAY EFFECT THE RESULT MORE \n",
    "    #VELOCITY PARTICLES THAT HAVE A SIMILAR VELOCITY TO THE TARGET MANAGED TO STAY ON TOP OF IT AND GOT RESSAMPELD MUCH MORE OFTNE \n",
    "    #BY THE TIME WE GET TO TH ETREE PARTICLES ON AVERAGE ARE MOVING LIKE THE TARGET \n",
    "    #WHAT HEPPENS IF WE TURN OFF THE VELOCITY (COMMENT VELOCITY LINE )\n",
    "    #AFTER THE TREE IT ODESN(T FELLOW THE TARGET ANYMORE AND IT IS LESS SPREADED IN GENERAL )\n",
    "    #VELOCITY MAKE THE MODEL MORE ROBUST \n",
    "    return weights"
   ]
  },
  {
   "cell_type": "markdown",
   "metadata": {},
   "source": [
    "Resample particles according to their weights"
   ]
  },
  {
   "cell_type": "code",
   "execution_count": 75,
   "metadata": {},
   "outputs": [],
   "source": [
    "def resample(particles, weights):\n",
    "    #IF WE NORMALIZE  WEIGHTS THEM SO THAT THEY SUM TO ONE \n",
    "    #WE CAN USE THEM AS A PROBABILITY DISTRIBUTION OVER THE PARTICLES \n",
    "    probabilities= weights/np.sum(weights)\n",
    "    #BUILD A NEW PARTICLE ARRAY \n",
    "    #HIGH WEIGHT CHOOSEN MANY TIMES \n",
    "    #LOW WEIGHT MIGHT NOT BE CHOOSEN AT ALL \n",
    "    index_numbers=np.random.choice(NUM_PARTICLES,\n",
    "                                   size=NUM_PARTICLES,\n",
    "                                   p=probabilities)\n",
    "    #REBUILD PARTICLE ARRYA BASED ON INDEX LEVELS \n",
    "    particles = particles[index_numbers,:]\n",
    "    #SINGLE XY POSITION BEST GUESS OF TARGET POSITION \n",
    "    x=np.mean(particles[:,0])\n",
    "    y=np.mean(particles[:,1])\n",
    "    return particles, (int(x),int(y))"
   ]
  },
  {
   "cell_type": "markdown",
   "metadata": {},
   "source": [
    "Fuzz the particles"
   ]
  },
  {
   "cell_type": "code",
   "execution_count": 76,
   "metadata": {},
   "outputs": [],
   "source": [
    "POS_SIGMA =1.0 #10 GOOD RESULTS EVEN IF THOSE VALEUS \n",
    "VEL_SIGMA =0.5 #2 GOOD RESULT EVEN WITH THIS VALUE \n",
    "#GREATE BECAUSE IF OUR MODEL WAS BASED ESPECIALLY TUNED PARAMTERS IT WOULD NOT BE SO MUCH ROBUST TO SET UP \n",
    "def apply_noise(particles):\n",
    "    #HOW BIG CAN THE STD BE AND STILL THE PARTICLE FELLOW TARGET ? \n",
    "    #STANDARD DEVIATION OG THE GAUSSIAN WE USED ARE WHAT CONTROLLS THE AMOUNT OF NOISE \n",
    "    #ADD GAUSSIAN NOISE TO EACH PARTICLE \n",
    "    #IF THE TARGET CHANGES IN NEXT FRAME SOME OF THE PARTICLES WOULD HAVE CHANGED IN THE SAME WAY \n",
    "    #THANKS TO THE VARIATION WITH THE NOISE WE ADDED SO THEY MOVE ALONG WITH THE TARGET \n",
    "    #MORE COLOUR ERROR FOR THE PARTICLES THAT DIDN T MOVE WITH THE TARGET + WON'T GET RESSAMPLED \n",
    "    noise = np.concatenate(\n",
    "     ( np.random.normal(0.0,POS_SIGMA,(NUM_PARTICLES,1)),\n",
    "       np.random.normal(0.0,POS_SIGMA,(NUM_PARTICLES,1)),\n",
    "       np.random.normal(0.0,VEL_SIGMA,(NUM_PARTICLES,1)),\n",
    "       np.random.normal(0.0,VEL_SIGMA,(NUM_PARTICLES,1))\n",
    "     ),\n",
    "        axis=1\n",
    "    )\n",
    "    particles += noise\n",
    "    #WE NEED TO MAKE WEIGHTS THEM MORE SENSITIVE TO COLOR DIFFERENCE \n",
    "    #SQUARE THE WEIGHTS \n",
    "    return particles"
   ]
  },
  {
   "cell_type": "markdown",
   "metadata": {},
   "source": [
    "Display the video frames"
   ]
  },
  {
   "cell_type": "code",
   "execution_count": 77,
   "metadata": {},
   "outputs": [],
   "source": [
    "#display those video frame  by one \n",
    "def display(frame, particles, location):\n",
    "    if len(particles)>0:\n",
    "        for i in range(NUM_PARTICLES):\n",
    "            x=int(particles[i,0])\n",
    "            y=int(particles[i,1])\n",
    "            cv2.circle(frame,(x,y),1 ,(0,255,0),1)\n",
    "                #gree, circle small curve thickness = one\n",
    "    if len(location)>0  : \n",
    "        cv2.circle(frame,location ,15, (0,0,255),5)\n",
    "        \n",
    "                \n",
    "            \n",
    "    #display video frame \n",
    "    cv2.imshow('frame',frame )\n",
    "    #the first argument is the window and we handled it the video frame \n",
    "    if cv2.waitKey(30) == 27: #wait for thirty ms to see if user press escape key\n",
    "        #if they did \n",
    "        if cv2.waitKey(0) == 27: # zero means wait indefinite amount of time \n",
    "            return True #to let the program know that the program should be stopped \n",
    "    return False"
   ]
  },
  {
   "cell_type": "markdown",
   "metadata": {},
   "source": [
    "Main routine"
   ]
  },
  {
   "cell_type": "code",
   "execution_count": 78,
   "metadata": {},
   "outputs": [
    {
     "name": "stdout",
     "output_type": "stream",
     "text": [
      "[[ 3.96243350e+02  2.90366883e+02  5.13816880e-02  2.24415915e-02]\n",
      " [ 3.05878765e+02  2.62233010e+02 -3.12063944e-02  1.95886500e-01]\n",
      " [ 6.95764513e+02  1.55677257e+02  1.45862519e-01  1.44474599e-02]\n",
      " [ 4.10128173e+02  3.75792235e+02 -2.14481971e-01 -2.06435350e-01]\n",
      " [ 1.45976830e+01  3.38043657e+02  1.39078375e-01  1.85006074e-01]\n",
      " [ 7.06562443e+02  3.24458377e+02 -1.92603189e-02  1.40264588e-01]\n",
      " [ 8.53941355e+01  2.59807935e+02 -1.78323356e-01  2.22334459e-01]\n",
      " [ 3.76774488e+02  1.68352748e+02 -1.17722194e-01  1.37116845e-01]\n",
      " [ 3.29340540e+02  2.30784183e+02 -2.40605100e-01  5.88177485e-02]\n",
      " [ 4.41933112e+02  2.50475203e+02  2.21874039e-01  9.09101496e-02]\n",
      " [ 2.59564704e+02  1.77434973e+02  9.88155980e-02 -2.19887264e-01]\n",
      " [ 4.81405569e+02  2.72278975e+02 -1.44808719e-01 -1.85536851e-01]\n",
      " [ 2.27739269e+02  1.47666573e+02  3.50983852e-02 -3.06992433e-02]\n",
      " [ 7.13605911e+02  4.14301932e+01 -1.45561622e-01 -1.69345241e-01]\n",
      " [ 4.71544211e+02  1.02836391e+02 -1.68446136e-02 -1.27787204e-01]\n",
      " [ 1.14776039e+02  4.48123073e+01  7.81647947e-02 -1.80908524e-01]\n",
      " [ 1.41932465e+02  1.49702419e+02  1.60496615e-01 -2.01449362e-01]\n",
      " [ 6.04996223e+02  3.90159536e+01  2.38229733e-01 -1.56743992e-02]\n",
      " [ 7.05221506e+02  2.45567281e+02  1.19631790e-01 -2.30406104e-01]\n",
      " [ 2.04186627e+02  4.87998039e+01 -1.01929901e-01 -1.90636141e-01]]\n"
     ]
    }
   ],
   "source": [
    "particles = initialize_particles()\n",
    "\n",
    "for frame in get_frames(VFILENAME):\n",
    "    if frame is None: break\n",
    "\n",
    "    particles = apply_velocity(particles)\n",
    "    particles = enforce_edges(particles)\n",
    "    errors = compute_errors(particles, frame)\n",
    "    weights = compute_weights(errors)\n",
    "    particles, location = resample(particles, weights)\n",
    "    particles = apply_noise(particles)\n",
    "    terminate = display(frame, particles, location)\n",
    "    if terminate:\n",
    "        break\n",
    "cv2.destroyAllWindows()\n"
   ]
  },
  {
   "cell_type": "code",
   "execution_count": null,
   "metadata": {},
   "outputs": [],
   "source": []
  },
  {
   "cell_type": "code",
   "execution_count": null,
   "metadata": {},
   "outputs": [],
   "source": []
  }
 ],
 "metadata": {
  "kernelspec": {
   "display_name": "Python 3",
   "language": "python",
   "name": "python3"
  },
  "language_info": {
   "codemirror_mode": {
    "name": "ipython",
    "version": 3
   },
   "file_extension": ".py",
   "mimetype": "text/x-python",
   "name": "python",
   "nbconvert_exporter": "python",
   "pygments_lexer": "ipython3",
   "version": "3.6.9"
  }
 },
 "nbformat": 4,
 "nbformat_minor": 4
}
